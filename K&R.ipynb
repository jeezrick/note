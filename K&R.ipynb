{
 "cells": [
  {
   "cell_type": "markdown",
   "id": "e166f7ca-8403-4474-b9ad-f230d5f67a4a",
   "metadata": {},
   "source": [
    "# Chapter 1 😢\n",
    "\n",
    "## how to compile c program\n",
    "\n",
    "using command.\n",
    "\n",
    "> cc code.c  \n",
    "a.out\n",
    "\n",
    "-----"
   ]
  },
  {
   "cell_type": "markdown",
   "id": "c44867db-86e2-4522-b10f-fe9d6d07f829",
   "metadata": {},
   "source": [
    "## main()\n",
    "- notice: the return type of main() in c is __default__ to be *int*.\n",
    "------"
   ]
  },
  {
   "cell_type": "markdown",
   "id": "bab55ae2-cfa2-4fb7-90a6-9e3617a14287",
   "metadata": {
    "tags": []
   },
   "source": [
    "## string and char"
   ]
  },
  {
   "cell_type": "markdown",
   "id": "ecf3f3bf-816e-458a-83cd-8a94ae9f1896",
   "metadata": {
    "tags": []
   },
   "source": [
    "\n",
    "__EOF__ is an integer defined in <stdio.h>, it just not any char value. `char` value is [-128, 127]. which indicates ***the end of file***.\n",
    "> printf(\"%d\", EOF);<br>\n",
    "-1  \n",
    "\n",
    "- 字符和字符串\n",
    "\n",
    "> A character written between single quotes represents an integer value equal to the numerical value of the character in the machine's character set.(`char`)  \n",
    "This is called a character constant, although ___it is just another way to write a small integer___.\n",
    "\n",
    "ex. code:\n",
    "```c\n",
    "int a = 65;\n",
    "printf(\"%d\\n\", a);\n",
    "printf(\"%c\\n\", a);\n",
    "````\n",
    "> 65  \n",
    "A"
   ]
  },
  {
   "cell_type": "markdown",
   "id": "310566d1-e82b-4849-92a0-e31857147bbb",
   "metadata": {},
   "source": [
    "- some princple of coding\n",
    "> prefer the __symbolic constants__ 'IN' and OUT to the literal values 1 and 0 because they make the program more readable"
   ]
  },
  {
   "cell_type": "markdown",
   "id": "40bf5436-2159-46b9-bb2e-b7f4a377572b",
   "metadata": {},
   "source": [
    "- function to show histogram"
   ]
  },
  {
   "cell_type": "code",
   "execution_count": null,
   "id": "e06e9ed6-f1b1-42fd-9c0b-30a7c29940cb",
   "metadata": {},
   "outputs": [],
   "source": [
    "void display_vertical_h(int* arr)\n",
    "{\n",
    "    int max = 0;\n",
    "    for ( int i = 0; i < max_word_len; i ++)\n",
    "    {\n",
    "        if (arr[i] > max ) max = arr[i];\n",
    "    }\n",
    "\n",
    "    for ( int i = max; i > 0; i --)\n",
    "    {\n",
    "        for ( int j = 0; j < max_word_len; j ++)\n",
    "        {\n",
    "            if (arr[j] >= i) printf(\"*\");\n",
    "            else printf(\" \");\n",
    "        }\n",
    "        printf(\"\\n\");\n",
    "    }\n",
    "    for ( int j = 0; j < max_word_len; j ++) printf(\"%d\", j);\n",
    "    printf(\"\\n\");\n",
    "}"
   ]
  },
  {
   "cell_type": "markdown",
   "id": "0e9242eb-6c9a-464e-bfe4-ecc621353214",
   "metadata": {},
   "source": [
    "## number repsentation in computer\n",
    "1.unsigned integer\n",
    "\n",
    "2.integer  \n",
    "two's complement"
   ]
  },
  {
   "cell_type": "code",
   "execution_count": null,
   "id": "64dbd016-ab55-4fa3-81b0-6af33add701c",
   "metadata": {},
   "outputs": [],
   "source": []
  }
 ],
 "metadata": {
  "kernelspec": {
   "display_name": "Python 3 (ipykernel)",
   "language": "python",
   "name": "python3"
  },
  "language_info": {
   "codemirror_mode": {
    "name": "ipython",
    "version": 3
   },
   "file_extension": ".py",
   "mimetype": "text/x-python",
   "name": "python",
   "nbconvert_exporter": "python",
   "pygments_lexer": "ipython3",
   "version": "3.9.7"
  }
 },
 "nbformat": 4,
 "nbformat_minor": 5
}

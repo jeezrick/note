{
 "cells": [
  {
   "cell_type": "markdown",
   "id": "1952f801-7c3d-4d17-910e-4ed10bc5f38e",
   "metadata": {},
   "source": [
    "## main()\n",
    "主函数main中变量(int argc,char *argv[])的含义，有些编译器允许将main()的返回类型声明为void，这已不再是合法的C++。main(int argc, char *argv[], char **env)才是UNIX和Linux中的标准写法。\n",
    "- argc: 整数,用来统计你运行程序时送给main函数的命令行参数的个数\n",
    "- * argv[]: 指针数组，用来存放指向你的字符串参数的指针，每一个元素指向一个参数\n",
    "    - argv[0] 指向程序运行的全路径名，例如`./demo`\n",
    "    - argv[1] 指向在DOS命令行中执行程序名后的第一个字符串\n",
    "    - argv[2] 指向执行程序名后的第二个字符串\n",
    "    - ...  \n",
    "\n",
    "```cpp\n",
    "    int main(int argc, char *argv[])\n",
    "    {\n",
    "        if (argc < 3){\n",
    "            printf(\"Usage: %s base exponent \\n\", argv[0]);\n",
    "            return 1;\n",
    "        }\n",
    "        double base = atof(argv[1]);\n",
    "        int exponent = atoi(argv[2]);\n",
    "        double result = power(base, exponent);\n",
    "        printf(\"%g ^ %d is %g\\n\", base, exponent, result);\n",
    "        return 0;\n",
    "    }\n",
    "```\n",
    "bash:\n",
    "```bash\n",
    "xxx@xxx:~/rep/cmake-demo/Demo3$ ./Demo 2 8 9\n",
    "2 ^ 8 is 256\n",
    "```\n",
    "-----"
   ]
  },
  {
   "cell_type": "markdown",
   "id": "c237b6a1-b02e-4812-86fd-f53a33282b06",
   "metadata": {},
   "source": [
    "## ARRAY\n",
    "### static / dynamic\n",
    "- statically declared arrays\n",
    "```c\n",
    "int a1[100];  // declare a static array, a1, of 100 ints\n",
    "char c1[50];  // declare a static array, c1, of 50 chars\n",
    "```\n",
    "### alloc"
   ]
  }
 ],
 "metadata": {
  "kernelspec": {
   "display_name": "Python 3 (ipykernel)",
   "language": "python",
   "name": "python3"
  },
  "language_info": {
   "codemirror_mode": {
    "name": "ipython",
    "version": 3
   },
   "file_extension": ".py",
   "mimetype": "text/x-python",
   "name": "python",
   "nbconvert_exporter": "python",
   "pygments_lexer": "ipython3",
   "version": "3.9.13"
  }
 },
 "nbformat": 4,
 "nbformat_minor": 5
}

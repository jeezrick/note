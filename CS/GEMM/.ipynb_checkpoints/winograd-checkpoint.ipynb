{
 "cells": [
  {
   "cell_type": "markdown",
   "id": "9b6452d9-3b33-4389-a35f-7aade4bde9f4",
   "metadata": {},
   "source": [
    "# winograd"
   ]
  },
  {
   "cell_type": "markdown",
   "id": "4de705ac-bd10-47bf-b9a3-5161562f2349",
   "metadata": {},
   "source": [
    "## correlation "
   ]
  },
  {
   "cell_type": "markdown",
   "id": "9ec55873-720a-4ebd-ae45-89bb85debee4",
   "metadata": {},
   "source": [
    "数学中的Correlation = 深度学习中的convolution  \n",
    "correalation后的序列长度为： \n",
    "$$ n + k - 1 $$\n"
   ]
  },
  {
   "cell_type": "markdown",
   "id": "631189a3-3ffd-4e72-96fa-307a3034cfac",
   "metadata": {
    "tags": []
   },
   "source": [
    "## convolution"
   ]
  },
  {
   "cell_type": "markdown",
   "id": "44430fbe-0c37-4de6-9cca-448cc0f5910d",
   "metadata": {},
   "source": [
    "数学中的Convolution:\n",
    "convolution 后的序列长度为：  \n",
    "$$ n - k + 1 $$\n",
    "Convolution操作其实直观上等价于多项式乘法操作,假设两个离散序列长度分别为n和k，则对应的多项式的最高次冥分别为$x^{n - 1}$和$x^{k- 1}$，则这两个多项式相乘结果的最高次冥为$x^{n + k - 2}$，再加上一个最低次冥$x^{0}$总共就是$ n + k - 1$个元素。  \n",
    "，算上系数0的次冥"
   ]
  },
  {
   "cell_type": "markdown",
   "id": "4f690ba1-bd70-49ba-9a5d-d08cc0bd3e67",
   "metadata": {},
   "source": [
    "这个时候会涉及到寄存器的bank conflict。在NV的GPU中，每个SM不仅会产生shared memroy之间的bank 冲突，也会产生寄存器之间的bank冲突。这一点对于计算密集型的算子十分重要。像shared memory一样，寄存器的Register File也会被分为几个bank，如果一条指令的的源寄存器有2个以上来自同一bank，就会产生冲突。指令会重发射，浪费一个cycle。PS：这个地方是从旷视的博客中看的，我感觉指令重发射浪费一个cycle这里，有点困惑，如果流水被打断了的话，浪费的是不是不止一个cycle，这个不太清楚。然后对于maxwell架构的GPU而言，bank数为4，寄存器id%4即所属bank。"
   ]
  },
  {
   "cell_type": "code",
   "execution_count": null,
   "id": "4cc7346b-85ca-4a55-8453-e0fddb742db1",
   "metadata": {},
   "outputs": [],
   "source": []
  }
 ],
 "metadata": {
  "kernelspec": {
   "display_name": "Python 3 (ipykernel)",
   "language": "python",
   "name": "python3"
  },
  "language_info": {
   "codemirror_mode": {
    "name": "ipython",
    "version": 3
   },
   "file_extension": ".py",
   "mimetype": "text/x-python",
   "name": "python",
   "nbconvert_exporter": "python",
   "pygments_lexer": "ipython3",
   "version": "3.9.13"
  }
 },
 "nbformat": 4,
 "nbformat_minor": 5
}

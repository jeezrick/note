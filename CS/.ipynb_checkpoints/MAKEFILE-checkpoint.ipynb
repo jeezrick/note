{
 "cells": [
  {
   "cell_type": "markdown",
   "id": "7b66aa37-b068-41f0-8bc6-47d530759e5e",
   "metadata": {},
   "source": [
    "# makefile\n",
    "- 编译器\n",
    "    - GCC编译器\t\n",
    "        - 只要是 GCC 支持编译的程序代码，都可以使用 gcc 命令完成编译。可以这样理解，gcc 是 GCC 编译器的通用编译指令，因为根据程序文件的后缀名，gcc 指令可以自行判断出当前程序所用编程语言的类别。比如：xxx.c：默认以编译 C 语言程序的方式编译此文件；xxx.cpp：默认以编译 C++ 程序的方式编译此文件；xxx.go：默认以编译 Go 语言程序的方式编译此文件；\n",
    "        - 使用 g++ 指令，则无论目标文件的后缀名是什么，该指令都一律按照编译 C++ 代码的方式编译该文件。也就是说，对于 .c 文件来说，gcc 指令以 C 语言代码对待，而 g++ 指令会以 C++ 代码对待。但对于 .cpp 文件来说，gcc 和 g++ 都会以 C++ 代码的方式编译。\n"
   ]
  },
  {
   "cell_type": "code",
   "execution_count": null,
   "id": "f5a0b14b-bc48-42d0-86bd-b91ee43ed200",
   "metadata": {},
   "outputs": [],
   "source": []
  }
 ],
 "metadata": {
  "kernelspec": {
   "display_name": "Python 3 (ipykernel)",
   "language": "python",
   "name": "python3"
  },
  "language_info": {
   "codemirror_mode": {
    "name": "ipython",
    "version": 3
   },
   "file_extension": ".py",
   "mimetype": "text/x-python",
   "name": "python",
   "nbconvert_exporter": "python",
   "pygments_lexer": "ipython3",
   "version": "3.9.13"
  }
 },
 "nbformat": 4,
 "nbformat_minor": 5
}

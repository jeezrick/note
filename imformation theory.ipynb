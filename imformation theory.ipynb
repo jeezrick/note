{
 "cells": [
  {
   "cell_type": "markdown",
   "id": "7d04a827-4bfd-4d2c-bebc-6b6e5c4e9d78",
   "metadata": {},
   "source": [
    "# imformation theory"
   ]
  },
  {
   "cell_type": "markdown",
   "id": "41209400-12fb-4e8b-9fe0-2aae6efd705d",
   "metadata": {},
   "source": [
    "## 1. 什么是信息论\n",
    "信息论将信息表示为一个随机变量， 将信息量化为一个可以计算的物理量"
   ]
  },
  {
   "cell_type": "markdown",
   "id": "5d285334-7122-4610-93d0-1b1653bb8bbe",
   "metadata": {},
   "source": [
    "## 2. 如何表示事件的信息\n",
    "假设事件i的发生的概率为$p_i$，事件i所包含的信息量就为：$$I_i = \\log_{a}\\frac{1}{p_i}$$\n",
    "其中底数a可以变换， 当a为2时， $I_i$的值等同于使用二进制表示该信息所需要的位数。  \n",
    "一个`信源`所包含的平均信息量被称为`熵(entropy)`，公式为：\n",
    "\\begin{equation}\n",
    "\\begin{aligned}\n",
    "H &= \\sum_{i = 1}^{N}p_i\\log_{a}\\frac{1}{p_i}\\\\\n",
    "&= -\\sum_{i = 1}^{N}p_i\\log_{a}{p_i}, 其中， i=1, 2, 3, ... , N, \\sum_{i = 1}^{N}p_i = 1\n",
    "\\end{aligned}\n",
    "\\end{equation}"
   ]
  },
  {
   "cell_type": "code",
   "execution_count": null,
   "id": "a3edbe9a-e677-4cb5-a216-edf86166b6b3",
   "metadata": {},
   "outputs": [],
   "source": []
  },
  {
   "cell_type": "code",
   "execution_count": null,
   "id": "8f305070-c4aa-4ebf-aaad-f99d7096c7f9",
   "metadata": {},
   "outputs": [],
   "source": []
  }
 ],
 "metadata": {
  "kernelspec": {
   "display_name": "Python 3 (ipykernel)",
   "language": "python",
   "name": "python3"
  },
  "language_info": {
   "codemirror_mode": {
    "name": "ipython",
    "version": 3
   },
   "file_extension": ".py",
   "mimetype": "text/x-python",
   "name": "python",
   "nbconvert_exporter": "python",
   "pygments_lexer": "ipython3",
   "version": "3.9.13"
  }
 },
 "nbformat": 4,
 "nbformat_minor": 5
}

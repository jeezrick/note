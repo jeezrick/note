{
 "cells": [
  {
   "cell_type": "markdown",
   "id": "dd5725c3-74a6-41d1-b511-2c0149f3b1dc",
   "metadata": {},
   "source": [
    "# mm"
   ]
  },
  {
   "cell_type": "markdown",
   "id": "b5851ce5-afec-4361-b139-b8ad9d322e60",
   "metadata": {},
   "source": [
    "矩阵计算的第一个分别就是，在最外层，采用`dot`形式还是`rank 1 update`形式。  \n",
    "||内积|RANK_1|\n",
    "|----|----|----|\n",
    "|OUTPUT|只需要（load）store一次|需要反复load/store|\n",
    "|INPUT/WEIGHT|需要load多次|只需要load一次|\n",
    "\n",
    "`dot`只需要store一次（不需要load，可以直接将存output的register set 0，但是load似乎发挥了类似preload的效果，性能反而更好）似乎更加实惠，但是实际上`rank 1 update`即便L/S多次，由于output并没有实际参与mm计算过程，它的L/S latency应该会被没有数据依赖的浮点计算过程覆盖掉。 \n",
    "`dot`需要load input与weight矩阵中的一个反复多次，`rank 1 update`对应的row 和 column只需要load一次。"
   ]
  },
  {
   "cell_type": "markdown",
   "id": "54c9bdf8-786a-4d23-bc33-00233418363c",
   "metadata": {},
   "source": [
    "<img src=\"https://www.cs.utexas.edu/users/flame/laff/pfhp/images/Week3/BLISPicturePack.png\" style=\"zoom:40%\" /> \n",
    "在BLIS的实现中，他挑选了BLOCK A 的大小以装入L2 cache， 设计了panel B的大小以装入L3 cache。"
   ]
  },
  {
   "cell_type": "markdown",
   "id": "f9a2fa9d-4388-412e-9c39-f4977ff85bc2",
   "metadata": {},
   "source": [
    "# peak detech"
   ]
  },
  {
   "cell_type": "markdown",
   "id": "50836de3-d124-483a-a3cf-de404a0000dd",
   "metadata": {},
   "source": [
    "![jupyter](https://pica.zhimg.com/v2-3a8fab63409718252f5a995af8f5e761_720w.jpg?source=d16d100)"
   ]
  },
  {
   "cell_type": "markdown",
   "id": "fa716d33-c4a4-41f8-9b8b-f3189b5c991f",
   "metadata": {},
   "source": [
    "# perf on 102 (GFLOPS)\n",
    "4 FMLA: 8.968020  \n",
    "6 FMLA: 13.462489  \n",
    "8 FMLA: 15.018185   \n",
    "10 FMLA: 16.095492  \n",
    "12: 16.896063   \n",
    "16: 18.012186  \n",
    "18: 18.414821  \n",
    "20: 18.759214  \n",
    "22: 19.032795   \n",
    "24: 19.276297   \n",
    "26: 19.494102  \n",
    "28: 19.677516  \n",
    "30：19.856980   \n",
    "32: 20.015506   \n",
    "cortex A57: FMLA instruction latency: 10,  issue: 2,   \n",
    "theoritical peak : 30.5152  \n",
    "practical peak: 20.015506 "
   ]
  },
  {
   "cell_type": "markdown",
   "id": "63e2fd72-51ea-471e-bed2-27fd317b6868",
   "metadata": {},
   "source": [
    "# 测试"
   ]
  },
  {
   "cell_type": "markdown",
   "id": "3536b06e-73f5-44c6-8d8e-f7b9c73c30ca",
   "metadata": {},
   "source": [
    "- 102 peak performance\n",
    "1. 最外层dot，里层多次load weight,reuse input, streaming both input and weight piece.\n",
    "2. 最外层rank1 update，多次load/store output，reuse output， streaming input piece."
   ]
  },
  {
   "cell_type": "code",
   "execution_count": null,
   "id": "897c75b4-0398-41dc-8e25-089184f82747",
   "metadata": {},
   "outputs": [],
   "source": [
    "将复用的input或者weight进行内存连续pack  \n",
    "Alignment (easy and worthwhile) "
   ]
  }
 ],
 "metadata": {
  "kernelspec": {
   "display_name": "Python 3 (ipykernel)",
   "language": "python",
   "name": "python3"
  },
  "language_info": {
   "codemirror_mode": {
    "name": "ipython",
    "version": 3
   },
   "file_extension": ".py",
   "mimetype": "text/x-python",
   "name": "python",
   "nbconvert_exporter": "python",
   "pygments_lexer": "ipython3",
   "version": "3.9.13"
  }
 },
 "nbformat": 4,
 "nbformat_minor": 5
}

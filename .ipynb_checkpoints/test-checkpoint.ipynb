{
 "cells": [
  {
   "cell_type": "markdown",
   "id": "a45ec1f2-b4b4-4acd-a664-f49d0a035905",
   "metadata": {},
   "source": [
    "# rANS"
   ]
  },
  {
   "cell_type": "markdown",
   "id": "337b9424-9b90-42d0-96c5-72cce483fbb6",
   "metadata": {},
   "source": [
    "对于rANS的优化主要有：  \n",
    "1. interleave。\n",
    "2. 在编码端使用倒数乘法代替无符号整数除法。\n",
    "3. 在解码端使用alias method代替二分查找。"
   ]
  },
  {
   "cell_type": "markdown",
   "id": "2ac3e028-846f-45e5-a47a-c9f5c056688c",
   "metadata": {},
   "source": [
    "## 1.interleave\n",
    "数据交织编码解除数据依赖。\n",
    "- 效果：\n",
    "  - x86  \n",
    "  \n",
    "|speed(MB/s)|encode|decode|\n",
    "|----|----|----|\n",
    "|single|1200|150|\n",
    "|2way|2000|250|\n",
    "|4way|2300|230|\n",
    "|8way|1500|200|\n",
    "|16way|1200|190|\n",
    "  - arm  \n",
    "  \n",
    "|speed(MB/s)|encode|decode|\n",
    "|----|----|----|\n",
    "|single|400|58|\n",
    "|2way|580|58|\n",
    "|4way|730|58|\n",
    "|8way|780|58|\n",
    "|16way|830|55|\n"
   ]
  },
  {
   "cell_type": "markdown",
   "id": "319b6780-868b-499c-8ccf-63f3ba8c25fe",
   "metadata": {
    "tags": []
   },
   "source": [
    "## 2.reciprocals\n",
    "arm平台没有支持无符号整数除法的指令，需要寻找替代方法。"
   ]
  },
  {
   "cell_type": "markdown",
   "id": "88e7bf22-cec7-401d-885d-6d2915c9e852",
   "metadata": {},
   "source": [
    "1. 减法  \n",
    "循环减去小于当前被除数的最大除数倍数，并将商翻倍。时间复杂度为$ O(\\log n)$。  \n",
    "- 算法"
   ]
  },
  {
   "cell_type": "code",
   "execution_count": 3,
   "id": "6c8d211f-fc51-41ee-98d7-d4ceee1c9a25",
   "metadata": {},
   "outputs": [],
   "source": [
    "def div_loop(d, r):\n",
    "    '''\n",
    "    Accessing the diviend and divisor by parameter D and R.\n",
    "    >>> a, b = div_loop(11, 3)\n",
    "    >>> a\n",
    "    3\n",
    "    >>> b\n",
    "    2\n",
    "    '''\n",
    "    temp = r\n",
    "    while d > (r << 1):\n",
    "        r <<= 1\n",
    "    q = 0\n",
    "    while r >= temp: # while R can still represent one or more divisors\n",
    "        q <<= 1    \n",
    "        if d >= r:\n",
    "            d -= r\n",
    "            q += 1\n",
    "        r >>= 1\n",
    "    if d >= temp:\n",
    "        q += 1\n",
    "        d -= temp\n",
    "    return q, d"
   ]
  },
  {
   "cell_type": "code",
   "execution_count": 5,
   "id": "f496dd58-ce4d-42e0-a8d7-c14a43c830e6",
   "metadata": {},
   "outputs": [
    {
     "data": {
      "text/plain": [
       "(17, 3)"
      ]
     },
     "execution_count": 5,
     "metadata": {},
     "output_type": "execute_result"
    }
   ],
   "source": [
    "div_loop(122, 7)"
   ]
  },
  {
   "cell_type": "markdown",
   "id": "eeda6e10-4827-4b38-a38e-66fd663d4e2d",
   "metadata": {},
   "source": [
    "2. 倒数乘法  \n",
    "在 [Fabian](https://fgiesen.wordpress.com/2014/02/18/rans-with-static-probability-distributions/) 的博客中提到了将 $p$ bit的无符号整数除法转化为使用 $2p + 1$ bit 的定点乘法的倒数方法。其中提到，在除数最坏情况下（猜测是除数为或接近 $2^{32} - 1$ ）需要使用到 $2p + 1$ 个bit。  \n",
    "在rANS中，我使用的是32位的被除数，如果想保证安全性与效率（因为我们希望将计算限制在64位以内），可以将被除数重新归一化到31位。但是由于我使用的除数基本不超过 $2^{7}$ ，到现在为止的运行中，没有出现错误。  \n",
    "- 算法  \n",
    "\n",
    "```c\n",
    "struct SymbolStats // struct with parameters needed for reciprocal method.\n",
    "{\n",
    "    uint32_t freqs[N_SYM];\n",
    "    uint32_t rcp_freq[N_SYM];\n",
    "    uint32_t rcp_shift[N_SYM];\n",
    "    \n",
    "    uint32_t cum_freqs[N_SYM + 1];\n",
    "\n",
    "    void calc_cum_freqs();\n",
    "    void make_freqs();\n",
    "    void make_encrcp();\n",
    "};\n",
    "\n",
    "void SymbolStats::calc_cum_freqs()\n",
    "{\n",
    "    // get the cumulative frequencies of symbols.\n",
    "}\n",
    "\n",
    "void SymbolStats::make_freqs()\n",
    "{\n",
    "    // calculate frequencies from cumulative frequencies.\n",
    "}\n",
    "\n",
    "void SymbolStats::make_encrcp()\n",
    "{\n",
    "    for ( int i = 0; i < N_SYM; i++) \n",
    "    {\n",
    "        uint32_t freq = freqs[i];\n",
    "        if (freq <= 1) \n",
    "        {\n",
    "            rcp_freq[i] = ~0u;\n",
    "            rcp_shift[i] = 0u;\n",
    "        }\n",
    "        else \n",
    "        {\n",
    "            uint32_t shift = 0;\n",
    "            while(freq > (1u << shift)) shift++;\n",
    "            rcp_freq[i] = (uint32_t) (((1ull << (shift + 31)) + freq-1) / freq);\n",
    "            rcp_shift[i] = shift - 1;\n",
    "        }\n",
    "    }\n",
    "\n",
    "}\n",
    "\n",
    "void encode(SymbolStats* syms, other parameters)\n",
    "{\n",
    "    // some code\n",
    "    uint32_t q = ((uint32_t) (((uint64_t)x * syms->rcp_freq[symbol]) >> 32) >> syms->rcp_shift[symbol]);\n",
    "    uint32_t bias = x - q * syms->freqs[symbol] + syms->cum_freqs[symbol];\n",
    "    state_arr->lane[i] = (q << TOTAL_FRQ_BITS) + syms->alias_remap[bias];\n",
    "}\n",
    "```"
   ]
  },
  {
   "cell_type": "code",
   "execution_count": 1,
   "id": "d590221f-2fc4-4c87-87c9-c7523a0db990",
   "metadata": {},
   "outputs": [],
   "source": [
    "# python version\n",
    "def rcp(sigma_table):\n",
    "    rshift_table = np.ones((sigma_table.shape[0], sigma_table.shape[1] - 1), dtype=np.uint32)\n",
    "    rfreq_table = np.ones((sigma_table.shape[0], sigma_table.shape[1] - 1), dtype = np.uint32)\n",
    "    for index, x in enumerate(sigma_table):\n",
    "        rshift_arr = []\n",
    "        rfreq_arr = []\n",
    "        for i in range(len(x) - 1):\n",
    "            freq = x[i + 1] - x[i]\n",
    "            if freq <= 1:\n",
    "                rfreq_arr.append((2 << 32) - 1)\n",
    "                rshift_arr.append(0)\n",
    "            else:\n",
    "                rshift = 0\n",
    "                while freq > ( 1 << rshift):\n",
    "                    rshift+=1\n",
    "                rfreq = (((1 << (rshift + 31)) + freq - 1) // freq) #& ((2 << 32) - 1)\n",
    "                rfreq_arr.append(rfreq)\n",
    "                rshift_arr.append(rshift - 1)\n",
    "        print(rfreq_arr)\n",
    "        rshift_table[index] = np.array(rshift_arr).astype(np.uint32)\n",
    "        rfreq_table[index] = np.array(rfreq_arr).astype(np.uint32)\n",
    "    return rshift_table, rfreq_table"
   ]
  },
  {
   "cell_type": "markdown",
   "id": "a47422bb-17f1-48e3-a07f-6ed8518c7d91",
   "metadata": {},
   "source": [
    "- 效果\n",
    "  - x86  \n",
    "  \n",
    "|speed(MB/s)|encode|decode|\n",
    "|----|----|----|\n",
    "|single|1200|150|\n",
    "|rcp|1550|150|\n",
    "|4way+rcp|2400|233|\n",
    "|8way+rcp(s)|3400-3500|215|\n",
    "|16way+rcp(s)|1100|192|\n",
    "  - arm  \n",
    "  \n",
    "|speed(MB/s)|encode|decode|\n",
    "|----|----|----|\n",
    "|single|400|58|\n",
    "|rcp|480|58|\n",
    "|4way+rcp|900|59|\n",
    "|8way+rcp(s)|1180|55|\n",
    "|16way+rcp(s)|1050|55|\n"
   ]
  },
  {
   "cell_type": "markdown",
   "id": "27fe31cc-2931-4a11-bb9b-6c70e8691fb1",
   "metadata": {},
   "source": [
    "## 3.alias method"
   ]
  },
  {
   "cell_type": "markdown",
   "id": "6470fab7-a3a7-45cd-a0ff-488b06fbb8fe",
   "metadata": {},
   "source": [
    "- 效果：\n",
    "  - x86 \n",
    "  \n",
    "|speed(MB/s)|encode|decode|\n",
    "|----|----|----|\n",
    "|single|1200|150|\n",
    "|alias+rcp|650|770|\n",
    "|4way+alias(s)+rcp|300|800|\n",
    "|8way+alias+rcp(s)|1300|1200|\n",
    "|8way_simd|1300|2300|\n",
    "|./a|750|800|\n",
    "  - arm  \n",
    "  \n",
    "|speed(MB/s)|encode|decode|\n",
    "|----|----|----|\n",
    "|single|400|58|\n",
    "|alias+rcp|180|458|\n",
    "|4way+alias(s)|20|1050|\n",
    "|4way+alias(s)+rcp|300|800|\n",
    "|8way+alias+rcp(s)|340|940|\n",
    "|8way+alias+rcp|310|860|"
   ]
  },
  {
   "cell_type": "code",
   "execution_count": null,
   "id": "6bc44e10-2bf9-4296-8f84-a72e6591c3b2",
   "metadata": {},
   "outputs": [],
   "source": []
  }
 ],
 "metadata": {
  "kernelspec": {
   "display_name": "Python 3 (ipykernel)",
   "language": "python",
   "name": "python3"
  },
  "language_info": {
   "codemirror_mode": {
    "name": "ipython",
    "version": 3
   },
   "file_extension": ".py",
   "mimetype": "text/x-python",
   "name": "python",
   "nbconvert_exporter": "python",
   "pygments_lexer": "ipython3",
   "version": "3.9.13"
  }
 },
 "nbformat": 4,
 "nbformat_minor": 5
}
